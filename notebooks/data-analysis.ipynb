{
 "cells": [
  {
   "cell_type": "code",
   "execution_count": null,
   "id": "7aa6fc02",
   "metadata": {},
   "outputs": [],
   "source": [
    "import numpy as np\n",
    "import pandas as pd\n",
    "import matplotlib.pyplot as plt\n",
    "from pandas.plotting import scatter_matrix\n",
    "import seaborn as sns\n",
    "from sklearn.preprocessing import StandardScaler\n",
    "from sklearn.model_selection import train_test_split, KFold, cross_val_score, GridSearchCV"
   ]
  },
  {
   "cell_type": "markdown",
   "id": "424b0569",
   "metadata": {},
   "source": [
    "### Data Loading"
   ]
  },
  {
   "cell_type": "code",
   "execution_count": 2,
   "id": "848bba9c",
   "metadata": {},
   "outputs": [
    {
     "data": {
      "text/html": [
       "<div>\n",
       "<style scoped>\n",
       "    .dataframe tbody tr th:only-of-type {\n",
       "        vertical-align: middle;\n",
       "    }\n",
       "\n",
       "    .dataframe tbody tr th {\n",
       "        vertical-align: top;\n",
       "    }\n",
       "\n",
       "    .dataframe thead th {\n",
       "        text-align: right;\n",
       "    }\n",
       "</style>\n",
       "<table border=\"1\" class=\"dataframe\">\n",
       "  <thead>\n",
       "    <tr style=\"text-align: right;\">\n",
       "      <th></th>\n",
       "      <th>id</th>\n",
       "      <th>member_id</th>\n",
       "      <th>loan_amnt</th>\n",
       "      <th>funded_amnt</th>\n",
       "      <th>funded_amnt_inv</th>\n",
       "      <th>term</th>\n",
       "      <th>int_rate</th>\n",
       "      <th>installment</th>\n",
       "      <th>grade</th>\n",
       "      <th>sub_grade</th>\n",
       "      <th>...</th>\n",
       "      <th>hardship_payoff_balance_amount</th>\n",
       "      <th>hardship_last_payment_amount</th>\n",
       "      <th>disbursement_method</th>\n",
       "      <th>debt_settlement_flag</th>\n",
       "      <th>debt_settlement_flag_date</th>\n",
       "      <th>settlement_status</th>\n",
       "      <th>settlement_date</th>\n",
       "      <th>settlement_amount</th>\n",
       "      <th>settlement_percentage</th>\n",
       "      <th>settlement_term</th>\n",
       "    </tr>\n",
       "  </thead>\n",
       "  <tbody>\n",
       "    <tr>\n",
       "      <th>0</th>\n",
       "      <td>38098114</td>\n",
       "      <td>NaN</td>\n",
       "      <td>15000.0</td>\n",
       "      <td>15000.0</td>\n",
       "      <td>15000.0</td>\n",
       "      <td>60 months</td>\n",
       "      <td>12.39</td>\n",
       "      <td>336.64</td>\n",
       "      <td>C</td>\n",
       "      <td>C1</td>\n",
       "      <td>...</td>\n",
       "      <td>NaN</td>\n",
       "      <td>NaN</td>\n",
       "      <td>Cash</td>\n",
       "      <td>N</td>\n",
       "      <td>NaN</td>\n",
       "      <td>NaN</td>\n",
       "      <td>NaN</td>\n",
       "      <td>NaN</td>\n",
       "      <td>NaN</td>\n",
       "      <td>NaN</td>\n",
       "    </tr>\n",
       "    <tr>\n",
       "      <th>1</th>\n",
       "      <td>36805548</td>\n",
       "      <td>NaN</td>\n",
       "      <td>10400.0</td>\n",
       "      <td>10400.0</td>\n",
       "      <td>10400.0</td>\n",
       "      <td>36 months</td>\n",
       "      <td>6.99</td>\n",
       "      <td>321.08</td>\n",
       "      <td>A</td>\n",
       "      <td>A3</td>\n",
       "      <td>...</td>\n",
       "      <td>NaN</td>\n",
       "      <td>NaN</td>\n",
       "      <td>Cash</td>\n",
       "      <td>N</td>\n",
       "      <td>NaN</td>\n",
       "      <td>NaN</td>\n",
       "      <td>NaN</td>\n",
       "      <td>NaN</td>\n",
       "      <td>NaN</td>\n",
       "      <td>NaN</td>\n",
       "    </tr>\n",
       "    <tr>\n",
       "      <th>2</th>\n",
       "      <td>37842129</td>\n",
       "      <td>NaN</td>\n",
       "      <td>21425.0</td>\n",
       "      <td>21425.0</td>\n",
       "      <td>21425.0</td>\n",
       "      <td>60 months</td>\n",
       "      <td>15.59</td>\n",
       "      <td>516.36</td>\n",
       "      <td>D</td>\n",
       "      <td>D1</td>\n",
       "      <td>...</td>\n",
       "      <td>NaN</td>\n",
       "      <td>NaN</td>\n",
       "      <td>Cash</td>\n",
       "      <td>N</td>\n",
       "      <td>NaN</td>\n",
       "      <td>NaN</td>\n",
       "      <td>NaN</td>\n",
       "      <td>NaN</td>\n",
       "      <td>NaN</td>\n",
       "      <td>NaN</td>\n",
       "    </tr>\n",
       "    <tr>\n",
       "      <th>3</th>\n",
       "      <td>37612354</td>\n",
       "      <td>NaN</td>\n",
       "      <td>12800.0</td>\n",
       "      <td>12800.0</td>\n",
       "      <td>12800.0</td>\n",
       "      <td>60 months</td>\n",
       "      <td>17.14</td>\n",
       "      <td>319.08</td>\n",
       "      <td>D</td>\n",
       "      <td>D4</td>\n",
       "      <td>...</td>\n",
       "      <td>NaN</td>\n",
       "      <td>NaN</td>\n",
       "      <td>Cash</td>\n",
       "      <td>N</td>\n",
       "      <td>NaN</td>\n",
       "      <td>NaN</td>\n",
       "      <td>NaN</td>\n",
       "      <td>NaN</td>\n",
       "      <td>NaN</td>\n",
       "      <td>NaN</td>\n",
       "    </tr>\n",
       "    <tr>\n",
       "      <th>4</th>\n",
       "      <td>37662224</td>\n",
       "      <td>NaN</td>\n",
       "      <td>7650.0</td>\n",
       "      <td>7650.0</td>\n",
       "      <td>7650.0</td>\n",
       "      <td>36 months</td>\n",
       "      <td>13.66</td>\n",
       "      <td>260.20</td>\n",
       "      <td>C</td>\n",
       "      <td>C3</td>\n",
       "      <td>...</td>\n",
       "      <td>NaN</td>\n",
       "      <td>NaN</td>\n",
       "      <td>Cash</td>\n",
       "      <td>N</td>\n",
       "      <td>NaN</td>\n",
       "      <td>NaN</td>\n",
       "      <td>NaN</td>\n",
       "      <td>NaN</td>\n",
       "      <td>NaN</td>\n",
       "      <td>NaN</td>\n",
       "    </tr>\n",
       "  </tbody>\n",
       "</table>\n",
       "<p>5 rows × 150 columns</p>\n",
       "</div>"
      ],
      "text/plain": [
       "         id  member_id  loan_amnt  funded_amnt  funded_amnt_inv        term  \\\n",
       "0  38098114        NaN    15000.0      15000.0          15000.0   60 months   \n",
       "1  36805548        NaN    10400.0      10400.0          10400.0   36 months   \n",
       "2  37842129        NaN    21425.0      21425.0          21425.0   60 months   \n",
       "3  37612354        NaN    12800.0      12800.0          12800.0   60 months   \n",
       "4  37662224        NaN     7650.0       7650.0           7650.0   36 months   \n",
       "\n",
       "   int_rate  installment grade sub_grade  ... hardship_payoff_balance_amount  \\\n",
       "0     12.39       336.64     C        C1  ...                            NaN   \n",
       "1      6.99       321.08     A        A3  ...                            NaN   \n",
       "2     15.59       516.36     D        D1  ...                            NaN   \n",
       "3     17.14       319.08     D        D4  ...                            NaN   \n",
       "4     13.66       260.20     C        C3  ...                            NaN   \n",
       "\n",
       "  hardship_last_payment_amount disbursement_method  debt_settlement_flag  \\\n",
       "0                          NaN                Cash                     N   \n",
       "1                          NaN                Cash                     N   \n",
       "2                          NaN                Cash                     N   \n",
       "3                          NaN                Cash                     N   \n",
       "4                          NaN                Cash                     N   \n",
       "\n",
       "  debt_settlement_flag_date settlement_status settlement_date  \\\n",
       "0                       NaN               NaN             NaN   \n",
       "1                       NaN               NaN             NaN   \n",
       "2                       NaN               NaN             NaN   \n",
       "3                       NaN               NaN             NaN   \n",
       "4                       NaN               NaN             NaN   \n",
       "\n",
       "  settlement_amount settlement_percentage settlement_term  \n",
       "0               NaN                   NaN             NaN  \n",
       "1               NaN                   NaN             NaN  \n",
       "2               NaN                   NaN             NaN  \n",
       "3               NaN                   NaN             NaN  \n",
       "4               NaN                   NaN             NaN  \n",
       "\n",
       "[5 rows x 150 columns]"
      ]
     },
     "execution_count": 2,
     "metadata": {},
     "output_type": "execute_result"
    }
   ],
   "source": [
    "import warnings\n",
    "warnings.filterwarnings('ignore')\n",
    "df= pd.read_csv('../data/raw/accepted_2007_to_2017.csv', low_memory=True)\n",
    "df.head()"
   ]
  },
  {
   "cell_type": "code",
   "execution_count": 3,
   "id": "d01176af",
   "metadata": {},
   "outputs": [
    {
     "data": {
      "text/plain": [
       "(1646801, 150)"
      ]
     },
     "execution_count": 3,
     "metadata": {},
     "output_type": "execute_result"
    }
   ],
   "source": [
    "df.shape"
   ]
  },
  {
   "cell_type": "markdown",
   "id": "d9d7b127",
   "metadata": {},
   "source": [
    "The dataset has many features. We first focus on limiting the feature space based on data dictionary, domain knowledge and intuition, then move on to eda"
   ]
  },
  {
   "cell_type": "code",
   "execution_count": 4,
   "id": "1fa918ce",
   "metadata": {},
   "outputs": [
    {
     "data": {
      "text/plain": [
       "loan_status\n",
       "Current                                                788950\n",
       "Fully Paid                                             646902\n",
       "Charged Off                                            168084\n",
       "Late (31-120 days)                                      23763\n",
       "In Grace Period                                         10474\n",
       "Late (16-30 days)                                        5786\n",
       "Does not meet the credit policy. Status:Fully Paid       1988\n",
       "Does not meet the credit policy. Status:Charged Off       761\n",
       "Default                                                    70\n",
       "Name: count, dtype: int64"
      ]
     },
     "execution_count": 4,
     "metadata": {},
     "output_type": "execute_result"
    }
   ],
   "source": [
    "#Target variable\n",
    "df['loan_status'].value_counts()"
   ]
  },
  {
   "cell_type": "code",
   "execution_count": 5,
   "id": "c9e2c87c",
   "metadata": {},
   "outputs": [
    {
     "data": {
      "text/plain": [
       "loan_status\n",
       "Fully Paid     0.793758\n",
       "Charged Off    0.206242\n",
       "Name: proportion, dtype: float64"
      ]
     },
     "execution_count": 5,
     "metadata": {},
     "output_type": "execute_result"
    }
   ],
   "source": [
    "#Selecting data where loan is either fully paid or charged off\n",
    "df= df.loc[df['loan_status'].isin(['Fully Paid', 'Charged Off'])]\n",
    "df['loan_status'].value_counts(normalize=True, dropna=False)"
   ]
  },
  {
   "cell_type": "markdown",
   "id": "fb081125",
   "metadata": {},
   "source": [
    "79% of the data is fully paid and 21% charged off. The dataset is somewhat imbalanced"
   ]
  },
  {
   "cell_type": "code",
   "execution_count": 6,
   "id": "fc45e142",
   "metadata": {},
   "outputs": [],
   "source": [
    "#Preparing the target column\n",
    "df['charged_off']= (df['loan_status'] == 'Charged Off').apply(np.uint8)"
   ]
  },
  {
   "cell_type": "code",
   "execution_count": 7,
   "id": "df9c3965",
   "metadata": {},
   "outputs": [],
   "source": [
    "df.drop('loan_status', axis=1, inplace=True)"
   ]
  },
  {
   "cell_type": "code",
   "execution_count": 8,
   "id": "09d4e0de",
   "metadata": {},
   "outputs": [
    {
     "data": {
      "text/plain": [
       "member_id                                     1.000000\n",
       "next_pymnt_d                                  1.000000\n",
       "orig_projected_additional_accrued_interest    0.999876\n",
       "sec_app_mths_since_last_major_derog           0.999628\n",
       "hardship_length                               0.999275\n",
       "dtype: float64"
      ]
     },
     "execution_count": 8,
     "metadata": {},
     "output_type": "execute_result"
    }
   ],
   "source": [
    "#Removing features with more than 30% missing values\n",
    "missing_fractions= df.isnull().mean().sort_values(ascending=False)\n",
    "missing_fractions.head()"
   ]
  },
  {
   "cell_type": "code",
   "execution_count": 9,
   "id": "bb5dce1b",
   "metadata": {},
   "outputs": [],
   "source": [
    "drop_list= sorted(list(missing_fractions[missing_fractions > 0.3].index))\n",
    "df.drop(labels= drop_list, axis=1, inplace=True)"
   ]
  },
  {
   "cell_type": "code",
   "execution_count": 10,
   "id": "21056091",
   "metadata": {},
   "outputs": [
    {
     "data": {
      "text/plain": [
       "(814986, 92)"
      ]
     },
     "execution_count": 10,
     "metadata": {},
     "output_type": "execute_result"
    }
   ],
   "source": [
    "df.shape"
   ]
  },
  {
   "cell_type": "code",
   "execution_count": 11,
   "id": "d2892aa2",
   "metadata": {},
   "outputs": [],
   "source": [
    "#Keeping data that is based on domain knowledge according to the data dict\n",
    "keep_list= ['charged_off','funded_amnt','addr_state', 'annual_inc', \\\n",
    "'application_type','dti', 'earliest_cr_line', 'emp_length',\\\n",
    "'emp_title', 'fico_range_high',\\\n",
    "'fico_range_low', 'grade', 'home_ownership', 'id', 'initial_list_status', \\\n",
    "'installment', 'int_rate', 'loan_amnt',\\\n",
    "'mort_acc', 'open_acc', 'pub_rec', 'pub_rec_bankruptcies', \\\n",
    "'purpose', 'revol_bal', 'revol_util', \\\n",
    "'sub_grade', 'term', 'title', 'total_acc',\\\n",
    "'verification_status', 'zip_code','last_pymnt_amnt',\\\n",
    "'num_actv_rev_tl', 'mo_sin_rcnt_rev_tl_op',\\\n",
    "'mo_sin_old_rev_tl_op',\"bc_util\",\"bc_open_to_buy\",\\\n",
    "\"avg_cur_bal\",\"acc_open_past_24mths\" ]"
   ]
  },
  {
   "cell_type": "code",
   "execution_count": 12,
   "id": "96a58263",
   "metadata": {},
   "outputs": [
    {
     "data": {
      "text/plain": [
       "(814986, 39)"
      ]
     },
     "execution_count": 12,
     "metadata": {},
     "output_type": "execute_result"
    }
   ],
   "source": [
    "drop_list= [col for col in df.columns if col not in keep_list]\n",
    "\n",
    "df.drop(labels=drop_list, axis=1, inplace=True)\n",
    "\n",
    "df.shape"
   ]
  },
  {
   "cell_type": "code",
   "execution_count": 13,
   "id": "c1f0c5eb",
   "metadata": {},
   "outputs": [
    {
     "data": {
      "text/plain": [
       "['pub_rec', 'pub_rec_bankruptcies', 'revol_bal', 'total_acc']"
      ]
     },
     "execution_count": 13,
     "metadata": {},
     "output_type": "execute_result"
    }
   ],
   "source": [
    "#Correlation handling -keeping moderate to strong relationship\n",
    "correlation= df.select_dtypes(exclude='object').corr()\n",
    "corr_co= abs(correlation['charged_off'])\n",
    "drop_list= sorted(list(corr_co[corr_co < 0.03].index))\n",
    "drop_list"
   ]
  },
  {
   "cell_type": "code",
   "execution_count": 14,
   "id": "d0380bf5",
   "metadata": {},
   "outputs": [],
   "source": [
    "df.drop(labels=drop_list, axis=1, inplace=True)"
   ]
  },
  {
   "cell_type": "code",
   "execution_count": 15,
   "id": "957f4f5b",
   "metadata": {},
   "outputs": [
    {
     "data": {
      "text/plain": [
       "(814986, 35)"
      ]
     },
     "execution_count": 15,
     "metadata": {},
     "output_type": "execute_result"
    }
   ],
   "source": [
    "df.shape"
   ]
  },
  {
   "cell_type": "markdown",
   "id": "8db80d33",
   "metadata": {},
   "source": [
    "### Feature Engineering and EDA"
   ]
  },
  {
   "cell_type": "markdown",
   "id": "2b8b9b0a",
   "metadata": {},
   "source": [
    "### Univariate Analysis - Categorical Features"
   ]
  },
  {
   "cell_type": "code",
   "execution_count": 16,
   "id": "6f917c5d",
   "metadata": {},
   "outputs": [
    {
     "data": {
      "text/html": [
       "<div>\n",
       "<style scoped>\n",
       "    .dataframe tbody tr th:only-of-type {\n",
       "        vertical-align: middle;\n",
       "    }\n",
       "\n",
       "    .dataframe tbody tr th {\n",
       "        vertical-align: top;\n",
       "    }\n",
       "\n",
       "    .dataframe thead th {\n",
       "        text-align: right;\n",
       "    }\n",
       "</style>\n",
       "<table border=\"1\" class=\"dataframe\">\n",
       "  <thead>\n",
       "    <tr style=\"text-align: right;\">\n",
       "      <th></th>\n",
       "      <th>id</th>\n",
       "      <th>term</th>\n",
       "      <th>grade</th>\n",
       "      <th>sub_grade</th>\n",
       "      <th>emp_title</th>\n",
       "      <th>emp_length</th>\n",
       "      <th>home_ownership</th>\n",
       "      <th>verification_status</th>\n",
       "      <th>purpose</th>\n",
       "      <th>title</th>\n",
       "      <th>zip_code</th>\n",
       "      <th>addr_state</th>\n",
       "      <th>earliest_cr_line</th>\n",
       "      <th>initial_list_status</th>\n",
       "      <th>application_type</th>\n",
       "    </tr>\n",
       "  </thead>\n",
       "  <tbody>\n",
       "    <tr>\n",
       "      <th>count</th>\n",
       "      <td>814986</td>\n",
       "      <td>814986</td>\n",
       "      <td>814986</td>\n",
       "      <td>814986</td>\n",
       "      <td>766415</td>\n",
       "      <td>772733</td>\n",
       "      <td>814986</td>\n",
       "      <td>814986</td>\n",
       "      <td>814986</td>\n",
       "      <td>807067</td>\n",
       "      <td>814986</td>\n",
       "      <td>814986</td>\n",
       "      <td>814986</td>\n",
       "      <td>814986</td>\n",
       "      <td>814986</td>\n",
       "    </tr>\n",
       "    <tr>\n",
       "      <th>unique</th>\n",
       "      <td>814986</td>\n",
       "      <td>2</td>\n",
       "      <td>7</td>\n",
       "      <td>35</td>\n",
       "      <td>280473</td>\n",
       "      <td>11</td>\n",
       "      <td>6</td>\n",
       "      <td>3</td>\n",
       "      <td>14</td>\n",
       "      <td>60297</td>\n",
       "      <td>925</td>\n",
       "      <td>51</td>\n",
       "      <td>712</td>\n",
       "      <td>2</td>\n",
       "      <td>2</td>\n",
       "    </tr>\n",
       "    <tr>\n",
       "      <th>top</th>\n",
       "      <td>38098114</td>\n",
       "      <td>36 months</td>\n",
       "      <td>B</td>\n",
       "      <td>B3</td>\n",
       "      <td>Teacher</td>\n",
       "      <td>10+ years</td>\n",
       "      <td>MORTGAGE</td>\n",
       "      <td>Source Verified</td>\n",
       "      <td>debt_consolidation</td>\n",
       "      <td>Debt consolidation</td>\n",
       "      <td>945xx</td>\n",
       "      <td>CA</td>\n",
       "      <td>Aug-2001</td>\n",
       "      <td>f</td>\n",
       "      <td>Individual</td>\n",
       "    </tr>\n",
       "    <tr>\n",
       "      <th>freq</th>\n",
       "      <td>1</td>\n",
       "      <td>618460</td>\n",
       "      <td>235225</td>\n",
       "      <td>51309</td>\n",
       "      <td>11351</td>\n",
       "      <td>264873</td>\n",
       "      <td>406866</td>\n",
       "      <td>293897</td>\n",
       "      <td>481652</td>\n",
       "      <td>371874</td>\n",
       "      <td>9517</td>\n",
       "      <td>124204</td>\n",
       "      <td>6024</td>\n",
       "      <td>413678</td>\n",
       "      <td>811207</td>\n",
       "    </tr>\n",
       "  </tbody>\n",
       "</table>\n",
       "</div>"
      ],
      "text/plain": [
       "              id        term   grade sub_grade emp_title emp_length  \\\n",
       "count     814986      814986  814986    814986    766415     772733   \n",
       "unique    814986           2       7        35    280473         11   \n",
       "top     38098114   36 months       B        B3   Teacher  10+ years   \n",
       "freq           1      618460  235225     51309     11351     264873   \n",
       "\n",
       "       home_ownership verification_status             purpose  \\\n",
       "count          814986              814986              814986   \n",
       "unique              6                   3                  14   \n",
       "top          MORTGAGE     Source Verified  debt_consolidation   \n",
       "freq           406866              293897              481652   \n",
       "\n",
       "                     title zip_code addr_state earliest_cr_line  \\\n",
       "count               807067   814986     814986           814986   \n",
       "unique               60297      925         51              712   \n",
       "top     Debt consolidation    945xx         CA         Aug-2001   \n",
       "freq                371874     9517     124204             6024   \n",
       "\n",
       "       initial_list_status application_type  \n",
       "count               814986           814986  \n",
       "unique                   2                2  \n",
       "top                      f       Individual  \n",
       "freq                413678           811207  "
      ]
     },
     "execution_count": 16,
     "metadata": {},
     "output_type": "execute_result"
    }
   ],
   "source": [
    "df.select_dtypes(include='object').describe()"
   ]
  },
  {
   "cell_type": "markdown",
   "id": "6a0cb43b",
   "metadata": {},
   "source": [
    "***id*** is unique and irrelevant for modeling.\n",
    "\n",
    "***emp_title and title*** also contains a high number of unique features, which can cause high cardinality and lead to overfitting."
   ]
  },
  {
   "cell_type": "code",
   "execution_count": 17,
   "id": "5c637c22",
   "metadata": {},
   "outputs": [],
   "source": [
    "df.drop(['id', 'emp_title', 'zip_code', 'title'], axis=1, inplace=True)"
   ]
  },
  {
   "cell_type": "code",
   "execution_count": 18,
   "id": "0b0a0cd9",
   "metadata": {},
   "outputs": [
    {
     "data": {
      "text/plain": [
       "array([' 60 months', ' 36 months'], dtype=object)"
      ]
     },
     "execution_count": 18,
     "metadata": {},
     "output_type": "execute_result"
    }
   ],
   "source": [
    "df['term'].unique()"
   ]
  },
  {
   "cell_type": "code",
   "execution_count": 19,
   "id": "195f6d7b",
   "metadata": {},
   "outputs": [],
   "source": [
    "df['term']= df['term'].apply(lambda s: np.int8(s.split()[0]))"
   ]
  },
  {
   "cell_type": "code",
   "execution_count": 20,
   "id": "28da1b80",
   "metadata": {},
   "outputs": [
    {
     "data": {
      "text/plain": [
       "term  charged_off\n",
       "36    0              0.834290\n",
       "      1              0.165710\n",
       "60    0              0.666207\n",
       "      1              0.333793\n",
       "Name: proportion, dtype: float64"
      ]
     },
     "execution_count": 20,
     "metadata": {},
     "output_type": "execute_result"
    }
   ],
   "source": [
    "df.groupby('term')['charged_off'].value_counts(normalize=True)"
   ]
  },
  {
   "cell_type": "markdown",
   "id": "55a9029f",
   "metadata": {},
   "source": [
    "Loans with 5 year periods are more than twice as likely to charge-off as loans with three year periods. The feature is important for prediction."
   ]
  },
  {
   "cell_type": "code",
   "execution_count": 21,
   "id": "8581c79b",
   "metadata": {},
   "outputs": [
    {
     "data": {
      "text/plain": [
       "array(['10+ years', '8 years', '6 years', '< 1 year', '2 years',\n",
       "       '9 years', '7 years', '3 years', '1 year', nan, '4 years',\n",
       "       '5 years'], dtype=object)"
      ]
     },
     "execution_count": 21,
     "metadata": {},
     "output_type": "execute_result"
    }
   ],
   "source": [
    "df['emp_length'].unique()"
   ]
  },
  {
   "cell_type": "code",
   "execution_count": 22,
   "id": "0042c45a",
   "metadata": {},
   "outputs": [],
   "source": [
    "df['emp_length'].replace(to_replace='10+ years', value='10 years', inplace=True)\n",
    "df['emp_length'].replace(to_replace='< 1 year', value='0 years', inplace=True)"
   ]
  },
  {
   "cell_type": "code",
   "execution_count": 23,
   "id": "d215487b",
   "metadata": {},
   "outputs": [],
   "source": [
    "def emp_length_to_int(s):\n",
    "    if pd.isnull(s):\n",
    "        return s\n",
    "    else:\n",
    "        return np.int8(s.split()[0])\n",
    "    \n",
    "df['emp_length']= df['emp_length'].apply(emp_length_to_int)"
   ]
  },
  {
   "cell_type": "code",
   "execution_count": 24,
   "id": "728b51fd",
   "metadata": {},
   "outputs": [
    {
     "data": {
      "text/plain": [
       "emp_length\n",
       "0.0     0.212724\n",
       "1.0     0.212203\n",
       "2.0     0.203366\n",
       "3.0     0.205711\n",
       "4.0     0.202535\n",
       "5.0     0.200483\n",
       "6.0     0.199801\n",
       "7.0     0.202248\n",
       "8.0     0.210482\n",
       "9.0     0.209592\n",
       "10.0    0.194825\n",
       "Name: proportion, dtype: float64"
      ]
     },
     "execution_count": 24,
     "metadata": {},
     "output_type": "execute_result"
    }
   ],
   "source": [
    "charged_off_rates= df.groupby('emp_length')['charged_off'].value_counts(normalize=True).loc[:,1]\n",
    "charged_off_rates"
   ]
  },
  {
   "cell_type": "code",
   "execution_count": 25,
   "id": "e83bedfd",
   "metadata": {},
   "outputs": [
    {
     "data": {
      "image/png": "[encoded data removed]",
      "text/plain": [
       "<Figure size 640x480 with 1 Axes>"
      ]
     },
     "metadata": {},
     "output_type": "display_data"
    }
   ],
   "source": [
    "sns.barplot(x=charged_off_rates.index, y=charged_off_rates.values);"
   ]
  },
  {
   "cell_type": "markdown",
   "id": "671082a2",
   "metadata": {},
   "source": [
    "Loan status does not appear to vary much with employment length on average, hence feature is not important"
   ]
  },
  {
   "cell_type": "code",
   "execution_count": 26,
   "id": "cd0c46db",
   "metadata": {},
   "outputs": [],
   "source": [
    "df.drop('emp_length', axis=1, inplace=True)"
   ]
  },
  {
   "cell_type": "code",
   "execution_count": 27,
   "id": "e266a3a4",
   "metadata": {},
   "outputs": [
    {
     "data": {
      "image/png": "[encoded data removed]",
      "text/plain": [
       "<Figure size 640x480 with 1 Axes>"
      ]
     },
     "metadata": {},
     "output_type": "display_data"
    }
   ],
   "source": [
    "#sub-grade feature\n",
    "charged_off_rates= df.groupby('sub_grade')['charged_off'].value_counts(normalize=True).loc[:,1]\n",
    "\n",
    "sns.barplot(x=charged_off_rates.index, y=charged_off_rates.values);"
   ]
  },
  {
   "cell_type": "markdown",
   "id": "417f46e7",
   "metadata": {},
   "source": [
    "There's a clear trend of high pobabiliy of charge-off as the sub-grade worsens, thus this is a key feature"
   ]
  },
  {
   "cell_type": "code",
   "execution_count": 28,
   "id": "37326d1a",
   "metadata": {},
   "outputs": [
    {
     "data": {
      "text/plain": [
       "['grade',\n",
       " 'sub_grade',\n",
       " 'home_ownership',\n",
       " 'verification_status',\n",
       " 'purpose',\n",
       " 'addr_state',\n",
       " 'earliest_cr_line',\n",
       " 'initial_list_status',\n",
       " 'application_type']"
      ]
     },
     "execution_count": 28,
     "metadata": {},
     "output_type": "execute_result"
    }
   ],
   "source": [
    "df.select_dtypes(include='object').columns.tolist()"
   ]
  },
  {
   "cell_type": "code",
   "execution_count": 29,
   "id": "bd964652",
   "metadata": {},
   "outputs": [
    {
     "data": {
      "image/png": "[encoded data removed]",
      "text/plain": [
       "<Figure size 800x4500 with 9 Axes>"
      ]
     },
     "metadata": {},
     "output_type": "display_data"
    }
   ],
   "source": [
    "#Examining conditional probabilities of key categorical features\n",
    "import warnings\n",
    "warnings.filterwarnings('ignore')\n",
    "categorical_columns= df.select_dtypes(include='object').columns.tolist()\n",
    "\n",
    "fig, axes = plt.subplots(len(categorical_columns), 1, figsize=(8, 5 * len(categorical_columns)))\n",
    "\n",
    "for i, col in enumerate(categorical_columns):\n",
    "    default_rate = df.groupby(col)['charged_off'].mean().reset_index().sort_values(\"charged_off\", ascending=False)\n",
    "\n",
    "    sns.barplot(x=col, y=\"charged_off\", data=default_rate, ax=axes[i], palette=\"crest\")\n",
    "    axes[i].set_title(f'Default Rate by {col}')\n",
    "    axes[i].set_ylabel(\"Default Rate (P(Y=1))\")\n",
    "    axes[i].set_xlabel(col)\n",
    "\n",
    "plt.tight_layout()\n",
    "plt.show()\n"
   ]
  },
  {
   "cell_type": "markdown",
   "id": "a0b0e12c",
   "metadata": {},
   "source": [
    "### Univariate analysis - Numerical Features"
   ]
  },
  {
   "cell_type": "code",
   "execution_count": 30,
   "id": "ac26e595",
   "metadata": {},
   "outputs": [
    {
     "data": {
      "text/html": [
       "<div>\n",
       "<style scoped>\n",
       "    .dataframe tbody tr th:only-of-type {\n",
       "        vertical-align: middle;\n",
       "    }\n",
       "\n",
       "    .dataframe tbody tr th {\n",
       "        vertical-align: top;\n",
       "    }\n",
       "\n",
       "    .dataframe thead th {\n",
       "        text-align: right;\n",
       "    }\n",
       "</style>\n",
       "<table border=\"1\" class=\"dataframe\">\n",
       "  <thead>\n",
       "    <tr style=\"text-align: right;\">\n",
       "      <th></th>\n",
       "      <th>count</th>\n",
       "      <th>mean</th>\n",
       "      <th>std</th>\n",
       "      <th>min</th>\n",
       "      <th>25%</th>\n",
       "      <th>50%</th>\n",
       "      <th>75%</th>\n",
       "      <th>max</th>\n",
       "    </tr>\n",
       "  </thead>\n",
       "  <tbody>\n",
       "    <tr>\n",
       "      <th>loan_amnt</th>\n",
       "      <td>814986.0</td>\n",
       "      <td>14315.458210</td>\n",
       "      <td>8499.799241</td>\n",
       "      <td>500.00</td>\n",
       "      <td>8000.0000</td>\n",
       "      <td>12000.000</td>\n",
       "      <td>20000.00</td>\n",
       "      <td>40000.00</td>\n",
       "    </tr>\n",
       "    <tr>\n",
       "      <th>funded_amnt</th>\n",
       "      <td>814986.0</td>\n",
       "      <td>14301.566929</td>\n",
       "      <td>8492.964986</td>\n",
       "      <td>500.00</td>\n",
       "      <td>8000.0000</td>\n",
       "      <td>12000.000</td>\n",
       "      <td>20000.00</td>\n",
       "      <td>40000.00</td>\n",
       "    </tr>\n",
       "    <tr>\n",
       "      <th>term</th>\n",
       "      <td>814986.0</td>\n",
       "      <td>41.787368</td>\n",
       "      <td>10.266613</td>\n",
       "      <td>36.00</td>\n",
       "      <td>36.0000</td>\n",
       "      <td>36.000</td>\n",
       "      <td>36.00</td>\n",
       "      <td>60.00</td>\n",
       "    </tr>\n",
       "    <tr>\n",
       "      <th>int_rate</th>\n",
       "      <td>814986.0</td>\n",
       "      <td>13.490993</td>\n",
       "      <td>4.618486</td>\n",
       "      <td>5.32</td>\n",
       "      <td>9.9900</td>\n",
       "      <td>13.110</td>\n",
       "      <td>16.29</td>\n",
       "      <td>30.99</td>\n",
       "    </tr>\n",
       "    <tr>\n",
       "      <th>installment</th>\n",
       "      <td>814986.0</td>\n",
       "      <td>436.749624</td>\n",
       "      <td>255.732093</td>\n",
       "      <td>4.93</td>\n",
       "      <td>251.4000</td>\n",
       "      <td>377.040</td>\n",
       "      <td>576.29</td>\n",
       "      <td>1714.54</td>\n",
       "    </tr>\n",
       "    <tr>\n",
       "      <th>annual_inc</th>\n",
       "      <td>814986.0</td>\n",
       "      <td>75230.389095</td>\n",
       "      <td>65243.729443</td>\n",
       "      <td>0.00</td>\n",
       "      <td>45000.0000</td>\n",
       "      <td>65000.000</td>\n",
       "      <td>90000.00</td>\n",
       "      <td>9550000.00</td>\n",
       "    </tr>\n",
       "    <tr>\n",
       "      <th>dti</th>\n",
       "      <td>814950.0</td>\n",
       "      <td>17.867719</td>\n",
       "      <td>8.856477</td>\n",
       "      <td>-1.00</td>\n",
       "      <td>11.6400</td>\n",
       "      <td>17.360</td>\n",
       "      <td>23.63</td>\n",
       "      <td>999.00</td>\n",
       "    </tr>\n",
       "    <tr>\n",
       "      <th>fico_range_low</th>\n",
       "      <td>814986.0</td>\n",
       "      <td>695.603151</td>\n",
       "      <td>31.352251</td>\n",
       "      <td>625.00</td>\n",
       "      <td>670.0000</td>\n",
       "      <td>690.000</td>\n",
       "      <td>710.00</td>\n",
       "      <td>845.00</td>\n",
       "    </tr>\n",
       "    <tr>\n",
       "      <th>fico_range_high</th>\n",
       "      <td>814986.0</td>\n",
       "      <td>699.603264</td>\n",
       "      <td>31.352791</td>\n",
       "      <td>629.00</td>\n",
       "      <td>674.0000</td>\n",
       "      <td>694.000</td>\n",
       "      <td>714.00</td>\n",
       "      <td>850.00</td>\n",
       "    </tr>\n",
       "    <tr>\n",
       "      <th>open_acc</th>\n",
       "      <td>814986.0</td>\n",
       "      <td>11.521099</td>\n",
       "      <td>5.325064</td>\n",
       "      <td>0.00</td>\n",
       "      <td>8.0000</td>\n",
       "      <td>11.000</td>\n",
       "      <td>14.00</td>\n",
       "      <td>90.00</td>\n",
       "    </tr>\n",
       "    <tr>\n",
       "      <th>revol_util</th>\n",
       "      <td>814496.0</td>\n",
       "      <td>53.031137</td>\n",
       "      <td>24.320981</td>\n",
       "      <td>0.00</td>\n",
       "      <td>35.0000</td>\n",
       "      <td>53.700</td>\n",
       "      <td>71.90</td>\n",
       "      <td>892.30</td>\n",
       "    </tr>\n",
       "    <tr>\n",
       "      <th>last_pymnt_amnt</th>\n",
       "      <td>814986.0</td>\n",
       "      <td>5918.144144</td>\n",
       "      <td>7279.949481</td>\n",
       "      <td>0.00</td>\n",
       "      <td>446.9225</td>\n",
       "      <td>2864.715</td>\n",
       "      <td>9193.05</td>\n",
       "      <td>42148.53</td>\n",
       "    </tr>\n",
       "    <tr>\n",
       "      <th>acc_open_past_24mths</th>\n",
       "      <td>767705.0</td>\n",
       "      <td>4.716176</td>\n",
       "      <td>3.152369</td>\n",
       "      <td>0.00</td>\n",
       "      <td>2.0000</td>\n",
       "      <td>4.000</td>\n",
       "      <td>6.00</td>\n",
       "      <td>56.00</td>\n",
       "    </tr>\n",
       "    <tr>\n",
       "      <th>avg_cur_bal</th>\n",
       "      <td>747447.0</td>\n",
       "      <td>13519.786576</td>\n",
       "      <td>16221.882463</td>\n",
       "      <td>0.00</td>\n",
       "      <td>3119.0000</td>\n",
       "      <td>7508.000</td>\n",
       "      <td>18827.00</td>\n",
       "      <td>958084.00</td>\n",
       "    </tr>\n",
       "    <tr>\n",
       "      <th>bc_open_to_buy</th>\n",
       "      <td>759810.0</td>\n",
       "      <td>9464.944830</td>\n",
       "      <td>14575.870330</td>\n",
       "      <td>0.00</td>\n",
       "      <td>1312.0000</td>\n",
       "      <td>4261.000</td>\n",
       "      <td>11343.00</td>\n",
       "      <td>559912.00</td>\n",
       "    </tr>\n",
       "    <tr>\n",
       "      <th>bc_util</th>\n",
       "      <td>759321.0</td>\n",
       "      <td>61.575664</td>\n",
       "      <td>27.871170</td>\n",
       "      <td>0.00</td>\n",
       "      <td>40.8000</td>\n",
       "      <td>65.400</td>\n",
       "      <td>86.00</td>\n",
       "      <td>339.60</td>\n",
       "    </tr>\n",
       "    <tr>\n",
       "      <th>mo_sin_old_rev_tl_op</th>\n",
       "      <td>747458.0</td>\n",
       "      <td>180.843182</td>\n",
       "      <td>92.192939</td>\n",
       "      <td>2.00</td>\n",
       "      <td>117.0000</td>\n",
       "      <td>164.000</td>\n",
       "      <td>228.00</td>\n",
       "      <td>842.00</td>\n",
       "    </tr>\n",
       "    <tr>\n",
       "      <th>mo_sin_rcnt_rev_tl_op</th>\n",
       "      <td>747458.0</td>\n",
       "      <td>12.705577</td>\n",
       "      <td>15.654277</td>\n",
       "      <td>0.00</td>\n",
       "      <td>4.0000</td>\n",
       "      <td>8.000</td>\n",
       "      <td>15.00</td>\n",
       "      <td>372.00</td>\n",
       "    </tr>\n",
       "    <tr>\n",
       "      <th>mort_acc</th>\n",
       "      <td>767705.0</td>\n",
       "      <td>1.758707</td>\n",
       "      <td>2.081730</td>\n",
       "      <td>0.00</td>\n",
       "      <td>0.0000</td>\n",
       "      <td>1.000</td>\n",
       "      <td>3.00</td>\n",
       "      <td>51.00</td>\n",
       "    </tr>\n",
       "    <tr>\n",
       "      <th>num_actv_rev_tl</th>\n",
       "      <td>747459.0</td>\n",
       "      <td>5.658872</td>\n",
       "      <td>3.215863</td>\n",
       "      <td>0.00</td>\n",
       "      <td>3.0000</td>\n",
       "      <td>5.000</td>\n",
       "      <td>7.00</td>\n",
       "      <td>57.00</td>\n",
       "    </tr>\n",
       "  </tbody>\n",
       "</table>\n",
       "</div>"
      ],
      "text/plain": [
       "                          count          mean           std     min  \\\n",
       "loan_amnt              814986.0  14315.458210   8499.799241  500.00   \n",
       "funded_amnt            814986.0  14301.566929   8492.964986  500.00   \n",
       "term                   814986.0     41.787368     10.266613   36.00   \n",
       "int_rate               814986.0     13.490993      4.618486    5.32   \n",
       "installment            814986.0    436.749624    255.732093    4.93   \n",
       "annual_inc             814986.0  75230.389095  65243.729443    0.00   \n",
       "dti                    814950.0     17.867719      8.856477   -1.00   \n",
       "fico_range_low         814986.0    695.603151     31.352251  625.00   \n",
       "fico_range_high        814986.0    699.603264     31.352791  629.00   \n",
       "open_acc               814986.0     11.521099      5.325064    0.00   \n",
       "revol_util             814496.0     53.031137     24.320981    0.00   \n",
       "last_pymnt_amnt        814986.0   5918.144144   7279.949481    0.00   \n",
       "acc_open_past_24mths   767705.0      4.716176      3.152369    0.00   \n",
       "avg_cur_bal            747447.0  13519.786576  16221.882463    0.00   \n",
       "bc_open_to_buy         759810.0   9464.944830  14575.870330    0.00   \n",
       "bc_util                759321.0     61.575664     27.871170    0.00   \n",
       "mo_sin_old_rev_tl_op   747458.0    180.843182     92.192939    2.00   \n",
       "mo_sin_rcnt_rev_tl_op  747458.0     12.705577     15.654277    0.00   \n",
       "mort_acc               767705.0      1.758707      2.081730    0.00   \n",
       "num_actv_rev_tl        747459.0      5.658872      3.215863    0.00   \n",
       "\n",
       "                              25%        50%       75%         max  \n",
       "loan_amnt               8000.0000  12000.000  20000.00    40000.00  \n",
       "funded_amnt             8000.0000  12000.000  20000.00    40000.00  \n",
       "term                      36.0000     36.000     36.00       60.00  \n",
       "int_rate                   9.9900     13.110     16.29       30.99  \n",
       "installment              251.4000    377.040    576.29     1714.54  \n",
       "annual_inc             45000.0000  65000.000  90000.00  9550000.00  \n",
       "dti                       11.6400     17.360     23.63      999.00  \n",
       "fico_range_low           670.0000    690.000    710.00      845.00  \n",
       "fico_range_high          674.0000    694.000    714.00      850.00  \n",
       "open_acc                   8.0000     11.000     14.00       90.00  \n",
       "revol_util                35.0000     53.700     71.90      892.30  \n",
       "last_pymnt_amnt          446.9225   2864.715   9193.05    42148.53  \n",
       "acc_open_past_24mths       2.0000      4.000      6.00       56.00  \n",
       "avg_cur_bal             3119.0000   7508.000  18827.00   958084.00  \n",
       "bc_open_to_buy          1312.0000   4261.000  11343.00   559912.00  \n",
       "bc_util                   40.8000     65.400     86.00      339.60  \n",
       "mo_sin_old_rev_tl_op     117.0000    164.000    228.00      842.00  \n",
       "mo_sin_rcnt_rev_tl_op      4.0000      8.000     15.00      372.00  \n",
       "mort_acc                   0.0000      1.000      3.00       51.00  \n",
       "num_actv_rev_tl            3.0000      5.000      7.00       57.00  "
      ]
     },
     "execution_count": 30,
     "metadata": {},
     "output_type": "execute_result"
    }
   ],
   "source": [
    "df.drop('charged_off', axis=1).select_dtypes(exclude='object').describe().T"
   ]
  },
  {
   "cell_type": "code",
   "execution_count": 31,
   "id": "dd81252e",
   "metadata": {},
   "outputs": [
    {
     "data": {
      "text/html": [
       "<div>\n",
       "<style scoped>\n",
       "    .dataframe tbody tr th:only-of-type {\n",
       "        vertical-align: middle;\n",
       "    }\n",
       "\n",
       "    .dataframe tbody tr th {\n",
       "        vertical-align: top;\n",
       "    }\n",
       "\n",
       "    .dataframe thead th {\n",
       "        text-align: right;\n",
       "    }\n",
       "</style>\n",
       "<table border=\"1\" class=\"dataframe\">\n",
       "  <thead>\n",
       "    <tr style=\"text-align: right;\">\n",
       "      <th></th>\n",
       "      <th>skew</th>\n",
       "      <th>kurtosis</th>\n",
       "    </tr>\n",
       "  </thead>\n",
       "  <tbody>\n",
       "    <tr>\n",
       "      <th>loan_amnt</th>\n",
       "      <td>0.763633</td>\n",
       "      <td>-0.109363</td>\n",
       "    </tr>\n",
       "    <tr>\n",
       "      <th>funded_amnt</th>\n",
       "      <td>0.765968</td>\n",
       "      <td>-0.102879</td>\n",
       "    </tr>\n",
       "    <tr>\n",
       "      <th>term</th>\n",
       "      <td>1.210260</td>\n",
       "      <td>-0.535271</td>\n",
       "    </tr>\n",
       "    <tr>\n",
       "      <th>int_rate</th>\n",
       "      <td>0.571330</td>\n",
       "      <td>0.187449</td>\n",
       "    </tr>\n",
       "    <tr>\n",
       "      <th>installment</th>\n",
       "      <td>0.992396</td>\n",
       "      <td>0.764194</td>\n",
       "    </tr>\n",
       "    <tr>\n",
       "      <th>annual_inc</th>\n",
       "      <td>44.482960</td>\n",
       "      <td>4689.744654</td>\n",
       "    </tr>\n",
       "    <tr>\n",
       "      <th>dti</th>\n",
       "      <td>NaN</td>\n",
       "      <td>NaN</td>\n",
       "    </tr>\n",
       "    <tr>\n",
       "      <th>fico_range_low</th>\n",
       "      <td>1.301430</td>\n",
       "      <td>1.737071</td>\n",
       "    </tr>\n",
       "    <tr>\n",
       "      <th>fico_range_high</th>\n",
       "      <td>1.301599</td>\n",
       "      <td>1.738300</td>\n",
       "    </tr>\n",
       "    <tr>\n",
       "      <th>open_acc</th>\n",
       "      <td>1.273335</td>\n",
       "      <td>3.281071</td>\n",
       "    </tr>\n",
       "    <tr>\n",
       "      <th>revol_util</th>\n",
       "      <td>NaN</td>\n",
       "      <td>NaN</td>\n",
       "    </tr>\n",
       "    <tr>\n",
       "      <th>last_pymnt_amnt</th>\n",
       "      <td>1.597389</td>\n",
       "      <td>2.308062</td>\n",
       "    </tr>\n",
       "    <tr>\n",
       "      <th>acc_open_past_24mths</th>\n",
       "      <td>NaN</td>\n",
       "      <td>NaN</td>\n",
       "    </tr>\n",
       "    <tr>\n",
       "      <th>avg_cur_bal</th>\n",
       "      <td>NaN</td>\n",
       "      <td>NaN</td>\n",
       "    </tr>\n",
       "    <tr>\n",
       "      <th>bc_open_to_buy</th>\n",
       "      <td>NaN</td>\n",
       "      <td>NaN</td>\n",
       "    </tr>\n",
       "    <tr>\n",
       "      <th>bc_util</th>\n",
       "      <td>NaN</td>\n",
       "      <td>NaN</td>\n",
       "    </tr>\n",
       "    <tr>\n",
       "      <th>mo_sin_old_rev_tl_op</th>\n",
       "      <td>NaN</td>\n",
       "      <td>NaN</td>\n",
       "    </tr>\n",
       "    <tr>\n",
       "      <th>mo_sin_rcnt_rev_tl_op</th>\n",
       "      <td>NaN</td>\n",
       "      <td>NaN</td>\n",
       "    </tr>\n",
       "    <tr>\n",
       "      <th>mort_acc</th>\n",
       "      <td>NaN</td>\n",
       "      <td>NaN</td>\n",
       "    </tr>\n",
       "    <tr>\n",
       "      <th>num_actv_rev_tl</th>\n",
       "      <td>NaN</td>\n",
       "      <td>NaN</td>\n",
       "    </tr>\n",
       "    <tr>\n",
       "      <th>charged_off</th>\n",
       "      <td>1.452072</td>\n",
       "      <td>0.108512</td>\n",
       "    </tr>\n",
       "  </tbody>\n",
       "</table>\n",
       "</div>"
      ],
      "text/plain": [
       "                            skew     kurtosis\n",
       "loan_amnt               0.763633    -0.109363\n",
       "funded_amnt             0.765968    -0.102879\n",
       "term                    1.210260    -0.535271\n",
       "int_rate                0.571330     0.187449\n",
       "installment             0.992396     0.764194\n",
       "annual_inc             44.482960  4689.744654\n",
       "dti                          NaN          NaN\n",
       "fico_range_low          1.301430     1.737071\n",
       "fico_range_high         1.301599     1.738300\n",
       "open_acc                1.273335     3.281071\n",
       "revol_util                   NaN          NaN\n",
       "last_pymnt_amnt         1.597389     2.308062\n",
       "acc_open_past_24mths         NaN          NaN\n",
       "avg_cur_bal                  NaN          NaN\n",
       "bc_open_to_buy               NaN          NaN\n",
       "bc_util                      NaN          NaN\n",
       "mo_sin_old_rev_tl_op         NaN          NaN\n",
       "mo_sin_rcnt_rev_tl_op        NaN          NaN\n",
       "mort_acc                     NaN          NaN\n",
       "num_actv_rev_tl              NaN          NaN\n",
       "charged_off             1.452072     0.108512"
      ]
     },
     "execution_count": 31,
     "metadata": {},
     "output_type": "execute_result"
    }
   ],
   "source": [
    "from scipy.stats import skew, kurtosis\n",
    "skew_kurtosis= pd.DataFrame({\n",
    "    'skew': df.select_dtypes(exclude='object').apply(lambda x: skew(x)),\n",
    "    'kurtosis': df.select_dtypes(exclude='object').apply(lambda x: kurtosis(x)),\n",
    "})\n",
    "skew_kurtosis"
   ]
  },
  {
   "cell_type": "markdown",
   "id": "a1cb2b44",
   "metadata": {},
   "source": [
    "***annual_inc*** contains a huge number, confirming presence of extreme outliers and long tail of distribution. This can be confirmed in the data description, as annual income ranges from 0-9.5 million dollars, and a median of 65k. Because of the large values, log transformation will be applied to the variable."
   ]
  },
  {
   "cell_type": "code",
   "execution_count": 32,
   "id": "4f76d77c",
   "metadata": {},
   "outputs": [],
   "source": [
    "df['log_annual_inc']= df['annual_inc'].apply(lambda x: np.log10(x+1))\n",
    "df.drop('annual_inc', axis=1, inplace=True)"
   ]
  },
  {
   "cell_type": "code",
   "execution_count": 33,
   "id": "cd1d1ab5",
   "metadata": {},
   "outputs": [
    {
     "data": {
      "text/html": [
       "<div>\n",
       "<style scoped>\n",
       "    .dataframe tbody tr th:only-of-type {\n",
       "        vertical-align: middle;\n",
       "    }\n",
       "\n",
       "    .dataframe tbody tr th {\n",
       "        vertical-align: top;\n",
       "    }\n",
       "\n",
       "    .dataframe thead th {\n",
       "        text-align: right;\n",
       "    }\n",
       "</style>\n",
       "<table border=\"1\" class=\"dataframe\">\n",
       "  <thead>\n",
       "    <tr style=\"text-align: right;\">\n",
       "      <th></th>\n",
       "      <th>fico_range_low</th>\n",
       "      <th>fico_range_high</th>\n",
       "    </tr>\n",
       "  </thead>\n",
       "  <tbody>\n",
       "    <tr>\n",
       "      <th>fico_range_low</th>\n",
       "      <td>1.0</td>\n",
       "      <td>1.0</td>\n",
       "    </tr>\n",
       "    <tr>\n",
       "      <th>fico_range_high</th>\n",
       "      <td>1.0</td>\n",
       "      <td>1.0</td>\n",
       "    </tr>\n",
       "  </tbody>\n",
       "</table>\n",
       "</div>"
      ],
      "text/plain": [
       "                 fico_range_low  fico_range_high\n",
       "fico_range_low              1.0              1.0\n",
       "fico_range_high             1.0              1.0"
      ]
     },
     "execution_count": 33,
     "metadata": {},
     "output_type": "execute_result"
    }
   ],
   "source": [
    "df[['fico_range_low', 'fico_range_high']].corr()"
   ]
  },
  {
   "cell_type": "markdown",
   "id": "053bdb81",
   "metadata": {},
   "source": [
    "The correlation between fico columns is 1, thus we keep only one feature, that is, the average."
   ]
  },
  {
   "cell_type": "code",
   "execution_count": 34,
   "id": "58680a3d",
   "metadata": {},
   "outputs": [],
   "source": [
    "df['fico_score']= 0.5 * df['fico_range_low'] + 0.5*df['fico_range_high']\n",
    "df.drop(['fico_range_high', 'fico_range_low'], axis=1, inplace=True)"
   ]
  },
  {
   "cell_type": "code",
   "execution_count": 35,
   "id": "a2a3b7cb",
   "metadata": {},
   "outputs": [],
   "source": [
    "df['earliest_cr_line'] = pd.to_datetime(df['earliest_cr_line'], format='%b-%Y')\n",
    "\n",
    "current_date = pd.to_datetime('today')\n",
    "df['credit_age_months'] = (current_date.year - df['earliest_cr_line'].dt.year) * 12 + \\\n",
    "                          (current_date.month - df['earliest_cr_line'].dt.month)\n",
    "\n",
    "df['credit_age_years'] = df['credit_age_months'] / 12\n",
    "\n",
    "df= df.drop(columns= ['earliest_cr_line'])\n"
   ]
  },
  {
   "cell_type": "code",
   "execution_count": 36,
   "id": "979236e7",
   "metadata": {},
   "outputs": [
    {
     "data": {
      "text/plain": [
       "(814986, 30)"
      ]
     },
     "execution_count": 36,
     "metadata": {},
     "output_type": "execute_result"
    }
   ],
   "source": [
    "df.shape"
   ]
  },
  {
   "cell_type": "code",
   "execution_count": 39,
   "id": "c7bda90c",
   "metadata": {},
   "outputs": [],
   "source": [
    "train, test= train_test_split(df, test_size=0.3, random_state=42, stratify=y)"
   ]
  },
  {
   "cell_type": "code",
   "execution_count": 43,
   "id": "7bad1867",
   "metadata": {},
   "outputs": [],
   "source": [
    "train.to_csv('../data/interim/train.csv', index=False)\n",
    "test.to_csv('../data/interim/test.csv', index=False)"
   ]
  }
 ],
 "metadata": {
  "kernelspec": {
   "display_name": ".venv",
   "language": "python",
   "name": "python3"
  },
  "language_info": {
   "codemirror_mode": {
    "name": "ipython",
    "version": 3
   },
   "file_extension": ".py",
   "mimetype": "text/x-python",
   "name": "python",
   "nbconvert_exporter": "python",
   "pygments_lexer": "ipython3",
   "version": "3.13.7"
  }
 },
 "nbformat": 4,
 "nbformat_minor": 5
}
